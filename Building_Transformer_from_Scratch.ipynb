{
  "nbformat": 4,
  "nbformat_minor": 0,
  "metadata": {
    "colab": {
      "provenance": [],
      "authorship_tag": "ABX9TyNBz2DO32qznWD+EcReXDM3",
      "include_colab_link": true
    },
    "kernelspec": {
      "name": "python3",
      "display_name": "Python 3"
    },
    "language_info": {
      "name": "python"
    }
  },
  "cells": [
    {
      "cell_type": "markdown",
      "metadata": {
        "id": "view-in-github",
        "colab_type": "text"
      },
      "source": [
        "<a href=\"https://colab.research.google.com/github/MohamedAziz15/Transformer-Archticture-from-Scratch/blob/main/Building_Transformer_from_Scratch.ipynb\" target=\"_parent\"><img src=\"https://colab.research.google.com/assets/colab-badge.svg\" alt=\"Open In Colab\"/></a>"
      ]
    },
    {
      "cell_type": "code",
      "source": [],
      "metadata": {
        "id": "EUA0Lwud1k9A"
      },
      "execution_count": null,
      "outputs": []
    },
    {
      "cell_type": "code",
      "execution_count": null,
      "metadata": {
        "id": "SjWlbc7E0TxM"
      },
      "outputs": [],
      "source": [
        "from transformers import AutoTokenizer\n",
        "from bertviz.transformers_neuron_view import BertModel\n",
        "from bertviz.neuron_view import show\n",
        "model_ckpt = \"bert-base-uncased\"\n",
        "tokenizer = AutoTokenizer.from_pretrained(model_ckpt)\n",
        "model = BertModel.from_pretrained(model_ckpt)\n",
        "text = \"time flies like an arrow\"\n",
        "show(model, \"bert\", tokenizer, text, display_mode=\"light\",\n",
        "layer=0, head=8)"
      ]
    },
    {
      "cell_type": "code",
      "source": [
        "inputs = tokenizer(text, return_tensors=\"pt\",\n",
        "add_special_tokens=False)\n",
        "inputs.input_ids"
      ],
      "metadata": {
        "id": "XYbYH8ez0Xlw"
      },
      "execution_count": null,
      "outputs": []
    },
    {
      "cell_type": "code",
      "source": [
        "from torch import nn\n",
        "from transformers import AutoConfig\n",
        "config = AutoConfig.from_pretrained(model_ckpt)\n",
        "token_emb = nn.Embedding(config.vocab_size, config.hidden_size)\n",
        "token_emb"
      ],
      "metadata": {
        "id": "wWStfjgz0Xhj"
      },
      "execution_count": null,
      "outputs": []
    },
    {
      "cell_type": "code",
      "source": [
        "import torch\n",
        "from math import sqrt\n",
        "query = key = value = inputs_embeds\n",
        "dim_k = key.size(-1)\n",
        "scores = torch.bmm(query, key.transpose(1,2)) / sqrt(dim_k)\n",
        "scores.size()"
      ],
      "metadata": {
        "id": "cz3abMLh0Xfs"
      },
      "execution_count": null,
      "outputs": []
    },
    {
      "cell_type": "code",
      "source": [
        "import torch.nn.functional as F\n",
        "weights = F.softmax(scores, dim=-1)\n",
        "weights.sum(dim=-1)"
      ],
      "metadata": {
        "id": "81yimNTK0Xdm"
      },
      "execution_count": null,
      "outputs": []
    },
    {
      "cell_type": "code",
      "source": [
        "attn_outputs = torch.bmm(weights, value)\n",
        "attn_outputs.shape"
      ],
      "metadata": {
        "id": "zeH3hQ8K0mVp"
      },
      "execution_count": null,
      "outputs": []
    },
    {
      "cell_type": "code",
      "source": [
        "def scaled_dot_product_attention(query, key, value):\n",
        "  dim_k = query.size(-1)\n",
        "  scores = torch.bmm(query, key.transpose(1, 2)) / sqrt(dim_k)\n",
        "  weights = F.softmax(scores, dim=-1)\n",
        "  return torch.bmm(weights, value)"
      ],
      "metadata": {
        "id": "GzDqUZ360mSC"
      },
      "execution_count": null,
      "outputs": []
    },
    {
      "cell_type": "code",
      "source": [
        "class AttentionHead(nn.Module):\n",
        "  def __init__(self, embed_dim, head_dim):\n",
        "      super().__init__()\n",
        "      self.q = nn.Linear(embed_dim, head_dim)\n",
        "      self.k = nn.Linear(embed_dim, head_dim)\n",
        "      self.v = nn.Linear(embed_dim, head_dim)\n",
        "  def forward(self, hidden_state):\n",
        "      attn_outputs = scaled_dot_product_attention(\n",
        "      self.q(hidden_state), self.k(hidden_state),\n",
        "      self.v(hidden_state))\n",
        "      return attn_outputs"
      ],
      "metadata": {
        "id": "87y5XPle0twC"
      },
      "execution_count": null,
      "outputs": []
    },
    {
      "cell_type": "code",
      "source": [
        "class MultiHeadAttention(nn.Module):\n",
        "  def __init__(self, config):\n",
        "      super().__init__()\n",
        "      embed_dim = config.hidden_size\n",
        "      num_heads = config.num_attention_heads\n",
        "      head_dim = embed_dim // num_heads\n",
        "      self.heads = nn.ModuleList([AttentionHead(embed_dim, head_dim) for _ in range(num_heads)]  )\n",
        "      self.output_linear = nn.Linear(embed_dim, embed_dim)\n",
        "  def forward(self, hidden_state):\n",
        "      x = torch.cat([h(hidden_state) for h in self.heads], dim=-1)\n",
        "      x = self.output_linear(x)\n",
        "      return x\n"
      ],
      "metadata": {
        "id": "5D4LvHnf0tse"
      },
      "execution_count": null,
      "outputs": []
    },
    {
      "cell_type": "code",
      "source": [
        "multihead_attn = MultiHeadAttention(config)\n",
        "attn_output = multihead_attn(inputs_embeds)\n",
        "attn_output.size()"
      ],
      "metadata": {
        "id": "wgxd_XCm0tmx"
      },
      "execution_count": null,
      "outputs": []
    },
    {
      "cell_type": "code",
      "source": [
        "from bertviz import head_view\n",
        "from transformers import AutoModel\n",
        "model = AutoModel.from_pretrained(model_ckpt,\n",
        "output_attentions=True)\n",
        "sentence_a = \"time flies like an arrow\"\n",
        "sentence_b = \"fruit flies like a banana\"\n",
        "viz_inputs = tokenizer(sentence_a, sentence_b,\n",
        "return_tensors='pt')\n",
        "attention = model(**viz_inputs).attentions\n",
        "sentence_b_start = (viz_inputs.token_type_ids == 0).sum(dim=1)\n",
        "tokens = tokenizer.convert_ids_to_tokens(viz_inputs.input_ids[0])\n",
        "head_view(attention, tokens, sentence_b_start, heads=[8])\n"
      ],
      "metadata": {
        "id": "Z2W6MxMT1EDo"
      },
      "execution_count": null,
      "outputs": []
    },
    {
      "cell_type": "code",
      "source": [
        "class FeedForward(nn.Module):\n",
        "  def __init__(self, config):\n",
        "      super().__init__()\n",
        "      self.linear_1 = nn.Linear(config.hidden_size,\n",
        "      config.intermediate_size)\n",
        "      self.linear_2 = nn.Linear(config.intermediate_size,\n",
        "      config.hidden_size)\n",
        "      self.gelu = nn.GELU()\n",
        "      self.dropout = nn.Dropout(config.hidden_dropout_prob)\n",
        "  def forward(self, x):\n",
        "      x = self.linear_1(x)\n",
        "      x = self.gelu(x)\n",
        "      x = self.linear_2(x)\n",
        "      x = self.dropout(x)\n",
        "      return x"
      ],
      "metadata": {
        "id": "k3UTqqAR1ECK"
      },
      "execution_count": null,
      "outputs": []
    },
    {
      "cell_type": "code",
      "source": [
        "feed_forward = FeedForward(config)\n",
        "ff_outputs = feed_forward(attn_outputs)\n",
        "ff_outputs.size()"
      ],
      "metadata": {
        "id": "J4Vpy0FZ1KYT"
      },
      "execution_count": null,
      "outputs": []
    },
    {
      "cell_type": "code",
      "source": [],
      "metadata": {
        "id": "2QyHL1ei1KVI"
      },
      "execution_count": null,
      "outputs": []
    },
    {
      "cell_type": "code",
      "source": [],
      "metadata": {
        "id": "5bwibrnw1KTA"
      },
      "execution_count": null,
      "outputs": []
    },
    {
      "cell_type": "code",
      "source": [],
      "metadata": {
        "id": "dvmyOI050tbc"
      },
      "execution_count": null,
      "outputs": []
    }
  ]
}